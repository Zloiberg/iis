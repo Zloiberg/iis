{
 "cells": [
  {
   "cell_type": "code",
   "execution_count": 15,
   "metadata": {
    "scrolled": true
   },
   "outputs": [
    {
     "name": "stdout",
     "output_type": "stream",
     "text": [
      "Цена предмета: 12345, цена с учетом выбранной стратегии: 12345 - стратегия  без скидки\n",
      "Цена предмета: 12345, цена с учетом выбранной стратегии: 10493.25 - стратегия  со скидкой 15%\n",
      "Цена предмета: 12345, цена с учетом выбранной стратегии: 9807.0 - стратегия  распродажа\n"
     ]
    }
   ],
   "source": [
    "\"\"\"построим шаблон предлагающий выбора стратегии продажи предмета: без скидки, со скидкой, распродажу\"\"\"\n",
    "class Item: \n",
    "  \n",
    "    \"\"\"конструктор функции\"\"\"\n",
    "  \n",
    "    def __init__(self, price, discount_strategy = None): \n",
    "          \n",
    "        \"\"\"стратегия цены и цены со скидкой\"\"\"\n",
    "          \n",
    "        self.price = price \n",
    "        self.discount_strategy = discount_strategy \n",
    "          \n",
    "    \"\"\"функция для цены после скидки\"\"\"\n",
    "  \n",
    "    def price_after_discount(self): \n",
    "          \n",
    "        if self.discount_strategy: \n",
    "            discount = self.discount_strategy(self) \n",
    "        else: \n",
    "            discount = 0\n",
    "              \n",
    "        return self.price - discount \n",
    "  \n",
    "    def __repr__(self): \n",
    "          \n",
    "        statement = \"Цена предмета: {}, цена с учетом выбранной стратегии: {} - стратегия\"\n",
    "        return statement.format(self.price, self.price_after_discount())\n",
    "    \n",
    "    def on_sale_discount(order): \n",
    "      \n",
    "        return order.price * 0.20 + 69\n",
    "  \n",
    "    def fiveteen_percent_discount(order): \n",
    "      \n",
    "        return order.price * 0.15\n",
    "  \n",
    "if __name__ == \"__main__\": \n",
    "  \n",
    "    print(Item(12345), \" без скидки\") \n",
    "      \n",
    "    \"\"\"стратегия обычной скидки 15%\"\"\"\n",
    "    print(Item(12345, discount_strategy = fiveteen_percent_discount), \" со скидкой 15%\") \n",
    "  \n",
    "    \"\"\"стратегия с распродажей\"\"\"\n",
    "    print(Item(12345, discount_strategy = on_sale_discount), \" распродажа\") "
   ]
  },
  {
   "cell_type": "code",
   "execution_count": null,
   "metadata": {},
   "outputs": [],
   "source": []
  }
 ],
 "metadata": {
  "kernelspec": {
   "display_name": "Python 3",
   "language": "python",
   "name": "python3"
  },
  "language_info": {
   "codemirror_mode": {
    "name": "ipython",
    "version": 3
   },
   "file_extension": ".py",
   "mimetype": "text/x-python",
   "name": "python",
   "nbconvert_exporter": "python",
   "pygments_lexer": "ipython3",
   "version": "3.7.4"
  }
 },
 "nbformat": 4,
 "nbformat_minor": 4
}
